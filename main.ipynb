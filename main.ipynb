{
 "cells": [
  {
   "cell_type": "markdown",
   "metadata": {},
   "source": [
    "# Implementando uma MLP para resolver o problema de reconhecimento de caracteres"
   ]
  },
  {
   "cell_type": "markdown",
   "metadata": {},
   "source": [
    "## Importações do projeto\n",
    "Para este projeto, nós utilizamos as seguintes bibliotecas:\n",
    "- pandas\n",
    "- numpy\n",
    "- scikit-learn\n",
    "- seaborn"
   ]
  },
  {
   "cell_type": "code",
   "execution_count": 775,
   "metadata": {},
   "outputs": [],
   "source": [
    "import pandas as pd\n",
    "import numpy as np\n",
    "import random"
   ]
  },
  {
   "cell_type": "markdown",
   "metadata": {},
   "source": [
    "## Imporatação dos conjuntos de dados\n",
    "Cada conjunto de dados possui 21 letras, em que cada letra pode ser uma dentre ['A','B','C','D','E','J','K'].\n",
    "\n",
    "Os 3 conjuntos utilizados foram:\n",
    " - limpo:  cunjunto de dados em que as letras não possuem ruido algum;\n",
    " - ruido1: conjunto de dados em que as letras possuem algum tipo de ruido;\n",
    " - ruido2: o mesmo caso do 'ruido1', porém com ruidos diferentes"
   ]
  },
  {
   "cell_type": "code",
   "execution_count": 776,
   "metadata": {},
   "outputs": [
    {
     "data": {
      "text/html": [
       "<div>\n",
       "<style scoped>\n",
       "    .dataframe tbody tr th:only-of-type {\n",
       "        vertical-align: middle;\n",
       "    }\n",
       "\n",
       "    .dataframe tbody tr th {\n",
       "        vertical-align: top;\n",
       "    }\n",
       "\n",
       "    .dataframe thead th {\n",
       "        text-align: right;\n",
       "    }\n",
       "</style>\n",
       "<table border=\"1\" class=\"dataframe\">\n",
       "  <thead>\n",
       "    <tr style=\"text-align: right;\">\n",
       "      <th></th>\n",
       "      <th>0</th>\n",
       "      <th>1</th>\n",
       "      <th>2</th>\n",
       "      <th>3</th>\n",
       "      <th>4</th>\n",
       "      <th>5</th>\n",
       "      <th>6</th>\n",
       "      <th>7</th>\n",
       "      <th>8</th>\n",
       "      <th>9</th>\n",
       "      <th>...</th>\n",
       "      <th>60</th>\n",
       "      <th>61</th>\n",
       "      <th>62</th>\n",
       "      <th>63</th>\n",
       "      <th>64</th>\n",
       "      <th>65</th>\n",
       "      <th>66</th>\n",
       "      <th>67</th>\n",
       "      <th>68</th>\n",
       "      <th>69</th>\n",
       "    </tr>\n",
       "  </thead>\n",
       "  <tbody>\n",
       "    <tr>\n",
       "      <th>5</th>\n",
       "      <td>-1</td>\n",
       "      <td>-1</td>\n",
       "      <td>-1</td>\n",
       "      <td>1</td>\n",
       "      <td>1</td>\n",
       "      <td>-1</td>\n",
       "      <td>1</td>\n",
       "      <td>-1</td>\n",
       "      <td>-1</td>\n",
       "      <td>-1</td>\n",
       "      <td>...</td>\n",
       "      <td>1</td>\n",
       "      <td>-1</td>\n",
       "      <td>-1</td>\n",
       "      <td>-1</td>\n",
       "      <td>-1</td>\n",
       "      <td>-1</td>\n",
       "      <td>-1</td>\n",
       "      <td>-1</td>\n",
       "      <td>1</td>\n",
       "      <td>-1</td>\n",
       "    </tr>\n",
       "  </tbody>\n",
       "</table>\n",
       "<p>1 rows × 70 columns</p>\n",
       "</div>"
      ],
      "text/plain": [
       "   0   1   2   3   4   5   6   7   8   9   ...  60  61  62  63  64  65  66  \\\n",
       "5  -1  -1  -1   1   1  -1   1  -1  -1  -1  ...   1  -1  -1  -1  -1  -1  -1   \n",
       "\n",
       "   67  68  69  \n",
       "5  -1   1  -1  \n",
       "\n",
       "[1 rows x 70 columns]"
      ]
     },
     "execution_count": 776,
     "metadata": {},
     "output_type": "execute_result"
    }
   ],
   "source": [
    "limpo = pd.read_csv('datasets/caracteres-limpo.csv', header=None)\n",
    "\n",
    "ruido1 = pd.read_csv('datasets/caracteres-ruido.csv', header=None)\n",
    "\n",
    "ruido2 = pd.read_csv('datasets/caracteres-ruido2.csv', header=None)\n",
    "\n",
    "ruido1.sample()"
   ]
  },
  {
   "attachments": {},
   "cell_type": "markdown",
   "metadata": {},
   "source": [
    "## Funções\n",
    "\n",
    "Neste projeto, optamos por definir 2 funções e as suas respectivas derivadas, sendo estas:\n",
    " - 'tanh': Tangente Hiperbólica\n",
    " - 'SR': Square residuals, ou erro quadrático"
   ]
  },
  {
   "cell_type": "code",
   "execution_count": 777,
   "metadata": {},
   "outputs": [],
   "source": [
    "Activations = {\n",
    "    'tanh' : (lambda x: np.tanh(x))\n",
    "    }\n",
    "D_Activations = {\n",
    "    'tanh' : (lambda x: 1-x**2)\n",
    "    }\n",
    "Errors = {\n",
    "    'SR' : (lambda x,y: (x-y)**2)\n",
    "    }\n",
    "D_Errors = {\n",
    "    'SR' : (lambda x,y: -2*(x-y))\n",
    "    }"
   ]
  },
  {
   "attachments": {},
   "cell_type": "markdown",
   "metadata": {},
   "source": [
    "## Parametros\n",
    "\n",
    "Para esta MLP, temos os seguintes parâmetros fixos:\n",
    " - weights_L1: Pesos Sinápticos da Camada Escondida\n",
    " - bias_L1: Viéses associados a cada Neurônio da Camada Escondida\n",
    " - weights_L2: Pesos Sinápticos da Camada de Saída\n",
    " - bias_L2: Viéses associados a cada Neurônio da Camada de Saída"
   ]
  },
  {
   "cell_type": "code",
   "execution_count": 778,
   "metadata": {},
   "outputs": [],
   "source": [
    "weights_L1 = [[]]\n",
    "bias_L1 = []\n",
    "weights_L2 = [[]]\n",
    "bias_L2 = []"
   ]
  },
  {
   "attachments": {},
   "cell_type": "markdown",
   "metadata": {},
   "source": [
    "## implementação do algoritmo"
   ]
  },
  {
   "attachments": {},
   "cell_type": "markdown",
   "metadata": {},
   "source": [
    "### Inicialização dos pesos e viéses\n",
    "\n",
    "Pesos e viéses são iniciados com valores aleatórios + 0.01, para evitar do peso ser 0.\n",
    "Obs.: Os pesos foram armazenados em estruturas de dados de modo semelhante à imagem abaixo:\n",
    "\n",
    "<img src=\"assets\\MLP-Diagram.png\">\n",
    "\n",
    "$$\\text{De modo que o peso W}_{i,j} \\text{ é o j-ésimo peso do i-ésimo neurônio.}$$"
   ]
  },
  {
   "cell_type": "code",
   "execution_count": 779,
   "metadata": {},
   "outputs": [],
   "source": [
    "def start_weights(i, j):\n",
    "    weights = []\n",
    "    for _ in range(j):\n",
    "        temp = []\n",
    "        for _ in range(i):\n",
    "            temp.append(random.uniform(min_lim, max_lim)+.01)\n",
    "        weights.append(temp)\n",
    "    return np.array(weights)"
   ]
  },
  {
   "cell_type": "code",
   "execution_count": 780,
   "metadata": {},
   "outputs": [],
   "source": [
    "def start_bias(j):\n",
    "    bias = []\n",
    "    for _ in range(j):\n",
    "        bias.append(random.uniform(min_lim, max_lim)+.01)\n",
    "    return np.array(bias)"
   ]
  },
  {
   "attachments": {},
   "cell_type": "markdown",
   "metadata": {},
   "source": [
    "### Feed Forward"
   ]
  },
  {
   "cell_type": "markdown",
   "metadata": {},
   "source": [
    "Seguindo as definições padrões, o feed forward é feito segundo as etapas abaixo:\n",
    "\n",
    "1. Recebe os valores de entradas pela Camada de Entrada e passa adiante sem fazer operação alguma, essa é a output_L0\n",
    "\n",
    "$$\n",
    "output\\_ L0 = \\{x_0, x_1, x_2, \\dots, x_{n0} \\}\n",
    "$$\n",
    "\n",
    "<br />\n",
    "<br />\n",
    "\n",
    "2. Recebe os valores da camada anterior e realiza o produto com os seus respectivos pesos, ao final os valores obtidos são somados e é adicionado o viés do neuronio atual. Segundo as equações abaixo:\n",
    "\n",
    "$$\n",
    "\\text{z'in}_{i} = {\\sum_j w_{i,j} x_j\\, = w_{i,0} x_0 + w_{i,1} x_1 + w_{i,2} x_2 + ... +  w_{i,n0} x_{n0} + b_i}\n",
    "$$\n",
    "\n",
    "$$\n",
    "\\text{z}_{i} = f(\\text{z'in}_{i})\n",
    "$$\n",
    "\n",
    "$$\n",
    "output\\_ L1 = \\{z_0, z_1, z_2, \\dots, z_{n1} \\}\n",
    "$$\n",
    "\n",
    "<br />\n",
    "<br />\n",
    "\n",
    "3. O mesmo processo é feito, agora usando os valores da camada anterior (output_L1).\n",
    "\n",
    "$$\n",
    "\\text{y'in}_{i} = {\\sum_j w_{i,j} z_j\\, = w_{i,0} z_0 + w_{i,1} z_1 + w_{i,2} z_2 + ... +  w_{i,n1} z_{n1} + b_i}\n",
    "$$\n",
    "\n",
    "$$\n",
    "\\text{y}_{i} = f(\\text{y'in}_{i})\n",
    "$$\n",
    "\n",
    "$$\n",
    "output\\_ L2 = \\{y_0, y_1, y_2, \\dots, y_{n2} \\}\n",
    "$$\n",
    "\n"
   ]
  },
  {
   "cell_type": "code",
   "execution_count": 781,
   "metadata": {},
   "outputs": [],
   "source": [
    "def feed_forward(x):\n",
    "    temp = []\n",
    "\n",
    "    output_L1 = []\n",
    "    output_L2 = []\n",
    "\n",
    "    for i,w in enumerate(weights_L1):\n",
    "        temp = [X*W for (X, W) in zip(x, w)]\n",
    "        temp = np.sum(temp) + bias_L1[i]\n",
    "        output_L1.append(activation_func(temp))\n",
    "\n",
    "    temp = []\n",
    "\n",
    "    for i,w in enumerate(weights_L2):\n",
    "        temp = [X*W for (X, W) in zip(output_L1, w)]\n",
    "        temp = np.sum(temp) + bias_L2[i]\n",
    "        output_L2.append(activation_func(temp))\n",
    "\n",
    "    return np.array(output_L1), np.array(output_L2)\n",
    "    "
   ]
  },
  {
   "attachments": {},
   "cell_type": "markdown",
   "metadata": {},
   "source": [
    "### calculo do erro total"
   ]
  },
  {
   "cell_type": "code",
   "execution_count": 782,
   "metadata": {},
   "outputs": [],
   "source": [
    "def error_calculation(y, output_L2):\n",
    "    total_error = 0\n",
    "    for i in range(L2):\n",
    "        SR = error_func(y[i], output_L2[i])\n",
    "        total_error += SR\n",
    "    return total_error"
   ]
  },
  {
   "attachments": {},
   "cell_type": "markdown",
   "metadata": {},
   "source": [
    "### Back Propagation"
   ]
  },
  {
   "cell_type": "markdown",
   "metadata": {},
   "source": []
  },
  {
   "cell_type": "code",
   "execution_count": 783,
   "metadata": {},
   "outputs": [],
   "source": [
    "def back_propagation(x, y, output_L1, output_L2):\n",
    "    \n",
    "    # gradient descent L2\n",
    "    delta_L2 = error_deriv(y, output_L2) * activation_deriv(output_L2)\n",
    "\n",
    "    # updating weights and biases L2\n",
    "    for i in range(L2):\n",
    "        for j in range(L1):\n",
    "            weights_L2[i][j] -= learning_rate * delta_L2[i] * output_L1[j]\n",
    "            bias_L2[i] -= learning_rate * delta_L2[i]\n",
    "\n",
    "    # gradient descent L1\n",
    "    delta_L1 = np.matmul(weights_L2.T, delta_L2) * activation_deriv(output_L1)\n",
    "\n",
    "    # updating weights and biases L1\n",
    "    for i in range(L1):\n",
    "        for j in range(L0):\n",
    "            weights_L1[i][j] -= learning_rate * delta_L1[i] * x[j]\n",
    "            bias_L1[i] -= learning_rate * delta_L1[i]"
   ]
  },
  {
   "attachments": {},
   "cell_type": "markdown",
   "metadata": {},
   "source": [
    "### algoritmo de treinamento do modelo"
   ]
  },
  {
   "cell_type": "code",
   "execution_count": 784,
   "metadata": {},
   "outputs": [],
   "source": [
    "import matplotlib.pyplot as plt\n",
    "\n",
    "def fit(X, Y):\n",
    "    epoch = 0\n",
    "    total_error = 1\n",
    "    errors = []\n",
    "    epochs = []\n",
    "    \n",
    "    while epoch < max_epochs:\n",
    "        for i in range(len(X.index)):\n",
    "            x = np.array(X.iloc[i].values)\n",
    "            y = np.array(Y.iloc[i].values)\n",
    "            \n",
    "            # feed forward\n",
    "            output_L1, output_L2 = feed_forward(x)\n",
    "\n",
    "            # error calculation\n",
    "            iteration_error = error_calculation(y, output_L2)\n",
    "\n",
    "            # back propagation\n",
    "            back_propagation(x, y, output_L1, output_L2)\n",
    "        \n",
    "        total_error = (iteration_error / len(X.index))\n",
    "\n",
    "        epoch += 1\n",
    "\n",
    "        if epoch%5 == 0:\n",
    "            errors.append(total_error)\n",
    "            epochs.append(epoch)\n",
    "\n",
    "    plt.plot(epochs, errors)\n",
    "    plt.show()\n",
    "\n",
    "    print(\"total error: \", total_error)\n",
    "\n"
   ]
  },
  {
   "attachments": {},
   "cell_type": "markdown",
   "metadata": {},
   "source": [
    "### Algoritmos de teste"
   ]
  },
  {
   "cell_type": "code",
   "execution_count": 785,
   "metadata": {},
   "outputs": [],
   "source": [
    "def predict(X):\n",
    "    preds = []\n",
    "    \n",
    "    for i in range(len(X.index)):\n",
    "        x = np.array(X.iloc[i].values)\n",
    "\n",
    "        output_L1, output_L2 = feed_forward(x)\n",
    "        output_L2 = output_treatment(output_L2)\n",
    "\n",
    "        preds.append(output_L2)\n",
    "\n",
    "    preds = pd.DataFrame(preds)\n",
    "    preds = preds.astype('int64')\n",
    "\n",
    "    return preds"
   ]
  },
  {
   "cell_type": "code",
   "execution_count": 786,
   "metadata": {},
   "outputs": [],
   "source": [
    "def output_treatment(output):\n",
    "    temp = np.empty(len(output))\n",
    "    max = -1\n",
    "    for i, o in enumerate(output):\n",
    "        if o > max:\n",
    "            max = o\n",
    "    for i in range(len(temp)):\n",
    "        if output[i] != max:\n",
    "            temp[i] = -1\n",
    "        else:\n",
    "            temp[i] = 1\n",
    "    return temp"
   ]
  },
  {
   "cell_type": "markdown",
   "metadata": {},
   "source": [
    "### Algoritmo auxiliar para avaliação do Modelo"
   ]
  },
  {
   "cell_type": "code",
   "execution_count": 787,
   "metadata": {},
   "outputs": [],
   "source": [
    "def label(data, labels):\n",
    "    result = []\n",
    "    data.columns = labels\n",
    "\n",
    "    for i in data.index:\n",
    "        for idx,c in enumerate(data.columns):\n",
    "            l = data[c]\n",
    "            if l.iloc[i] == 1:\n",
    "                result.append(labels[idx])\n",
    "                break\n",
    "    return pd.Series(result)\n"
   ]
  },
  {
   "cell_type": "markdown",
   "metadata": {},
   "source": [
    "## Preparação dos dados"
   ]
  },
  {
   "cell_type": "code",
   "execution_count": 788,
   "metadata": {},
   "outputs": [],
   "source": [
    "labels = ['A','B','C','D','E','J','K']\n",
    "\n",
    "for i, v in enumerate(labels):\n",
    "    limpo.rename(columns = {list(limpo)[63+i]: v}, inplace=True)\n",
    "\n",
    "for i, v in enumerate(labels):\n",
    "    ruido1.rename(columns = {list(ruido1)[63+i]: v}, inplace=True)\n",
    "\n",
    "for i, v in enumerate(labels):\n",
    "    ruido2.rename(columns = {list(ruido2)[63+i]: v}, inplace=True)"
   ]
  },
  {
   "attachments": {},
   "cell_type": "markdown",
   "metadata": {},
   "source": [
    "## Uso da IA"
   ]
  },
  {
   "cell_type": "markdown",
   "metadata": {},
   "source": [
    "### Composição dos conjuntos de treino e teste"
   ]
  },
  {
   "cell_type": "code",
   "execution_count": 789,
   "metadata": {},
   "outputs": [
    {
     "name": "stdout",
     "output_type": "stream",
     "text": [
      "\n"
     ]
    }
   ],
   "source": [
    "X = pd.concat([limpo, ruido1], ignore_index=True)\n",
    "X.reset_index()\n",
    "print('')"
   ]
  },
  {
   "attachments": {},
   "cell_type": "markdown",
   "metadata": {},
   "source": [
    "### Separação de treino e teste"
   ]
  },
  {
   "cell_type": "code",
   "execution_count": 790,
   "metadata": {},
   "outputs": [],
   "source": [
    "X_train = X.iloc[:,0:63]\n",
    "y_train = X.iloc[:,63:70]\n",
    "\n",
    "X_test = ruido2.iloc[:,0:63]\n",
    "y_test = ruido2.iloc[:,63:70]"
   ]
  },
  {
   "cell_type": "code",
   "execution_count": 791,
   "metadata": {},
   "outputs": [],
   "source": [
    "#from sklearn.model_selection import train_test_split\n",
    "\n",
    "#X_train, X_test, y_train, y_test = train_test_split(X, y, test_size=7, stratify=y)"
   ]
  },
  {
   "attachments": {},
   "cell_type": "markdown",
   "metadata": {},
   "source": [
    "## Hiperparametros"
   ]
  },
  {
   "cell_type": "code",
   "execution_count": 792,
   "metadata": {},
   "outputs": [],
   "source": [
    "L0 = 63\n",
    "L1 = 20\n",
    "L2 = 7\n",
    "\n",
    "learning_rate = 0.01\n",
    "max_epochs = 500\n",
    "\n",
    "activation_func = Activations['tanh']\n",
    "activation_deriv = D_Activations['tanh']\n",
    "\n",
    "error_func = Errors['SR']\n",
    "error_deriv = D_Errors['SR']\n",
    "\n",
    "max_lim = 1\n",
    "min_lim = -1"
   ]
  },
  {
   "attachments": {},
   "cell_type": "markdown",
   "metadata": {},
   "source": [
    "## treinando"
   ]
  },
  {
   "cell_type": "code",
   "execution_count": 793,
   "metadata": {},
   "outputs": [
    {
     "data": {
      "image/png": "[encoded data removed]",
      "text/plain": [
       "<Figure size 640x480 with 1 Axes>"
      ]
     },
     "metadata": {},
     "output_type": "display_data"
    },
    {
     "name": "stdout",
     "output_type": "stream",
     "text": [
      "total error:  0.00016238032154134878\n"
     ]
    }
   ],
   "source": [
    "weights_L1 = start_weights(L0, L1)\n",
    "bias_L1 = start_bias(L1)\n",
    "weights_L2 = start_weights(L1, L2)\n",
    "bias_L2 = start_bias(L2)\n",
    "\n",
    "fit(X_train, y_train)"
   ]
  },
  {
   "attachments": {},
   "cell_type": "markdown",
   "metadata": {},
   "source": [
    "## testando"
   ]
  },
  {
   "cell_type": "code",
   "execution_count": 794,
   "metadata": {},
   "outputs": [],
   "source": [
    "predictions = predict(X_test)"
   ]
  },
  {
   "cell_type": "markdown",
   "metadata": {},
   "source": [
    "## avaliando modelo"
   ]
  },
  {
   "cell_type": "code",
   "execution_count": 795,
   "metadata": {},
   "outputs": [
    {
     "data": {
      "text/plain": [
       "[Text(0.5, 23.52222222222222, 'previsto'),\n",
       " Text(50.722222222222214, 0.5, 'alvo')]"
      ]
     },
     "execution_count": 795,
     "metadata": {},
     "output_type": "execute_result"
    },
    {
     "data": {
      "image/png": "[encoded data removed]",
      "text/plain": [
       "<Figure size 640x480 with 2 Axes>"
      ]
     },
     "metadata": {},
     "output_type": "display_data"
    }
   ],
   "source": [
    "from sklearn.metrics import confusion_matrix\n",
    "import seaborn as sns\n",
    "\n",
    "y_test_label = label(y_test, labels)\n",
    "predictions_label = label(predictions, labels)\n",
    "\n",
    "cm = confusion_matrix(y_test_label, predictions_label, labels=labels)\n",
    "\n",
    "hm = sns.heatmap(cm, annot=True, xticklabels=labels, yticklabels=labels).set(xlabel=\"previsto\", ylabel=\"alvo\")\n",
    "\n",
    "hm"
   ]
  },
  {
   "cell_type": "code",
   "execution_count": 796,
   "metadata": {},
   "outputs": [
    {
     "name": "stdout",
     "output_type": "stream",
     "text": [
      "accuracy: 0.7619047619047619\n"
     ]
    },
    {
     "data": {
      "text/html": [
       "<div>\n",
       "<style scoped>\n",
       "    .dataframe tbody tr th:only-of-type {\n",
       "        vertical-align: middle;\n",
       "    }\n",
       "\n",
       "    .dataframe tbody tr th {\n",
       "        vertical-align: top;\n",
       "    }\n",
       "\n",
       "    .dataframe thead th {\n",
       "        text-align: right;\n",
       "    }\n",
       "</style>\n",
       "<table border=\"1\" class=\"dataframe\">\n",
       "  <thead>\n",
       "    <tr style=\"text-align: right;\">\n",
       "      <th></th>\n",
       "      <th>precision</th>\n",
       "      <th>recall</th>\n",
       "      <th>f1</th>\n",
       "    </tr>\n",
       "  </thead>\n",
       "  <tbody>\n",
       "    <tr>\n",
       "      <th>A</th>\n",
       "      <td>1.000000</td>\n",
       "      <td>0.666667</td>\n",
       "      <td>0.800000</td>\n",
       "    </tr>\n",
       "    <tr>\n",
       "      <th>B</th>\n",
       "      <td>0.666667</td>\n",
       "      <td>0.666667</td>\n",
       "      <td>0.666667</td>\n",
       "    </tr>\n",
       "    <tr>\n",
       "      <th>C</th>\n",
       "      <td>0.666667</td>\n",
       "      <td>0.666667</td>\n",
       "      <td>0.666667</td>\n",
       "    </tr>\n",
       "    <tr>\n",
       "      <th>D</th>\n",
       "      <td>0.500000</td>\n",
       "      <td>0.666667</td>\n",
       "      <td>0.571429</td>\n",
       "    </tr>\n",
       "    <tr>\n",
       "      <th>E</th>\n",
       "      <td>1.000000</td>\n",
       "      <td>0.666667</td>\n",
       "      <td>0.800000</td>\n",
       "    </tr>\n",
       "    <tr>\n",
       "      <th>J</th>\n",
       "      <td>1.000000</td>\n",
       "      <td>1.000000</td>\n",
       "      <td>1.000000</td>\n",
       "    </tr>\n",
       "    <tr>\n",
       "      <th>K</th>\n",
       "      <td>0.750000</td>\n",
       "      <td>1.000000</td>\n",
       "      <td>0.857143</td>\n",
       "    </tr>\n",
       "  </tbody>\n",
       "</table>\n",
       "</div>"
      ],
      "text/plain": [
       "   precision    recall        f1\n",
       "A   1.000000  0.666667  0.800000\n",
       "B   0.666667  0.666667  0.666667\n",
       "C   0.666667  0.666667  0.666667\n",
       "D   0.500000  0.666667  0.571429\n",
       "E   1.000000  0.666667  0.800000\n",
       "J   1.000000  1.000000  1.000000\n",
       "K   0.750000  1.000000  0.857143"
      ]
     },
     "execution_count": 796,
     "metadata": {},
     "output_type": "execute_result"
    }
   ],
   "source": [
    "from sklearn.metrics import accuracy_score\n",
    "from sklearn.metrics import precision_score\n",
    "from sklearn.metrics import recall_score\n",
    "from sklearn.metrics import f1_score\n",
    "\n",
    "accuracy = accuracy_score(y_test_label, predictions_label)\n",
    "precision = pd.DataFrame(precision_score(y_test_label, predictions_label, average=None, zero_division=0.0), index=labels, columns=['precision'])\n",
    "recall = pd.DataFrame(recall_score(y_test_label, predictions_label, average=None), index=labels, columns=['recall'])\n",
    "f1 = pd.DataFrame(f1_score(y_test_label, predictions_label, average=None), index=labels, columns=['f1'])\n",
    "\n",
    "metrics = precision.join(recall) \n",
    "metrics = metrics.join(f1) \n",
    "\n",
    "print(\"accuracy:\", accuracy)\n",
    "metrics.head(7)"
   ]
  }
 ],
 "metadata": {
  "kernelspec": {
   "display_name": "Python 3",
   "language": "python",
   "name": "python3"
  },
  "language_info": {
   "codemirror_mode": {
    "name": "ipython",
    "version": 3
   },
   "file_extension": ".py",
   "mimetype": "text/x-python",
   "name": "python",
   "nbconvert_exporter": "python",
   "pygments_lexer": "ipython3",
   "version": "3.11.4"
  },
  "orig_nbformat": 4
 },
 "nbformat": 4,
 "nbformat_minor": 2
}
